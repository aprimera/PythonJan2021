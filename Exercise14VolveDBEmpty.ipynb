{
 "cells": [
  {
   "cell_type": "markdown",
   "metadata": {},
   "source": [
    "# Exercise 14 - Production data to SQL DB"
   ]
  },
  {
   "cell_type": "markdown",
   "metadata": {},
   "source": [
    "## Learning Objectives"
   ]
  },
  {
   "cell_type": "markdown",
   "metadata": {},
   "source": [
    "* Explore sqlalchemy and pandas libraries for DB interaction\n",
    "* Create DB\n",
    "* Create Empty tables\n",
    "* Populate well metadata \n",
    "* Populate Production table from Pandas"
   ]
  },
  {
   "cell_type": "markdown",
   "metadata": {},
   "source": [
    "## Import libraries"
   ]
  },
  {
   "cell_type": "code",
   "execution_count": 1,
   "metadata": {},
   "outputs": [],
   "source": [
    "import pandas as pd\n",
    "import sqlalchemy as db\n",
    "import os\n",
    "import credentials\n",
    "from sqlalchemy import Table, Column, String, Integer, Float\n",
    "from ipywidgets import *\n",
    "import matplotlib.pyplot as plt"
   ]
  },
  {
   "cell_type": "markdown",
   "metadata": {},
   "source": [
    "## Import and explore Volve Data"
   ]
  },
  {
   "cell_type": "markdown",
   "metadata": {},
   "source": [
    "Volve is a North Sea field operated by Equinor, already decommissioned. Equinor has made their data public available, raw data and interpretation. We have extracted the production data and some of the well metadata for the purpose of this exercise.\n",
    "\n",
    "Source Data: https://www.equinor.com/en/how-and-why/digitalisation-in-our-dna/volve-field-data-village-download.html"
   ]
  },
  {
   "cell_type": "markdown",
   "metadata": {},
   "source": [
    "### Import Production Data"
   ]
  },
  {
   "cell_type": "code",
   "execution_count": 2,
   "metadata": {},
   "outputs": [],
   "source": [
    "# Let's load the data into the notebook\n",
    "file = \"Volve production data.xlsx\"\n",
    "if os.path.exists(file):\n",
    "    df_prod = pd.read_excel(file)\n",
    "else:\n",
    "    fileurl = \"https://github.com/orkahub/PEG_Python/raw/master/Data/Volve/Production_data/Volve%20production%20data.xlsx\"\n",
    "    df_prod = pd.read_excel(fileurl)"
   ]
  },
  {
   "cell_type": "code",
   "execution_count": 3,
   "metadata": {},
   "outputs": [],
   "source": [
    "column_names = {\n",
    "    'NPD_WELL_BORE_NAME': 'well', \n",
    "    'DATEPRD': 'dates', \n",
    "    'BORE_OIL_VOL': 'oilvol', \n",
    "    'BORE_WAT_VOL': 'watervol', \n",
    "    'BORE_GAS_VOL': 'gasvol',\n",
    "    'BORE_WI_VOL': 'waterinj',\n",
    "    'AVG_DOWNHOLE_PRESSURE': 'bhp',\n",
    "    'AVG_WHP_P': 'thp',\n",
    "    'AVG_DOWNHOLE_TEMPERATURE': 'bht'\n",
    "}\n",
    "df_prod.rename(columns=column_names, inplace=True)"
   ]
  },
  {
   "cell_type": "markdown",
   "metadata": {},
   "source": [
    "## Setup the connection to the DB and Fill with Data"
   ]
  },
  {
   "cell_type": "markdown",
   "metadata": {},
   "source": [
    "We will be working with a"
   ]
  },
  {
   "cell_type": "markdown",
   "metadata": {},
   "source": [
    "### Basic connection settings"
   ]
  },
  {
   "cell_type": "code",
   "execution_count": 4,
   "metadata": {},
   "outputs": [
    {
     "data": {
      "text/plain": [
       "'postgresql://TrainingPythonAdmin@pythontraining:Python2021O&G@pythontraining.postgres.database.azure.com:5432/postgres'"
      ]
     },
     "execution_count": 4,
     "metadata": {},
     "output_type": "execute_result"
    }
   ],
   "source": [
    "## Create the connection to my DB\n",
    "server = credentials.server\n",
    "user = credentials.user\n",
    "password = credentials.password\n",
    "sql_flavour = 'postgresql://'\n",
    "#engine_string = sql_flavour + user + \":\" + password + \"@\" + server +  \":5432/\" + db_name\n",
    "engine_string = sql_flavour + user + \":\" + password + \"@\" + server +  \":5432/postgres\" \n",
    "engine_string"
   ]
  },
  {
   "cell_type": "markdown",
   "metadata": {},
   "source": [
    "### Creating the connection"
   ]
  },
  {
   "cell_type": "code",
   "execution_count": 5,
   "metadata": {},
   "outputs": [],
   "source": []
  },
  {
   "cell_type": "markdown",
   "metadata": {},
   "source": [
    "### Create your first Database"
   ]
  },
  {
   "cell_type": "code",
   "execution_count": null,
   "metadata": {},
   "outputs": [],
   "source": [
    "db_name = #Change the following name to your own:\n"
   ]
  },
  {
   "cell_type": "markdown",
   "metadata": {},
   "source": [
    "### Create and populate well metadata"
   ]
  },
  {
   "cell_type": "code",
   "execution_count": 11,
   "metadata": {},
   "outputs": [],
   "source": []
  },
  {
   "cell_type": "code",
   "execution_count": 12,
   "metadata": {},
   "outputs": [],
   "source": [
    "wellnames= ['15/9-F-1 C', '15/9-F-11', '15/9-F-12', '15/9-F-14', '15/9-F-15 D', '15/9-F-4', '15/9-F-5']\n",
    "# Top formation location\n",
    "lat = [58.450073611111115, 58.44036305555555, 58.43840611111111, 58.442518611111105, 58.443219166666665,\n",
    " 58.433746944444444, 58.440733611111106]\n",
    "long = [1.8963722222222221, 1.9132308333333332, 1.8924699999999999, 1.8920077777777777, 1.9148333333333332,\n",
    " 1.8980691666666667, 1.9121891666666666]"
   ]
  },
  {
   "cell_type": "code",
   "execution_count": null,
   "metadata": {},
   "outputs": [],
   "source": []
  },
  {
   "cell_type": "markdown",
   "metadata": {},
   "source": [
    "### Create and populate Production Data"
   ]
  },
  {
   "cell_type": "code",
   "execution_count": null,
   "metadata": {},
   "outputs": [],
   "source": []
  },
  {
   "cell_type": "markdown",
   "metadata": {},
   "source": [
    "## Import Data from DB into Jupyter"
   ]
  },
  {
   "cell_type": "code",
   "execution_count": 7,
   "metadata": {},
   "outputs": [],
   "source": []
  },
  {
   "cell_type": "code",
   "execution_count": 8,
   "metadata": {},
   "outputs": [],
   "source": [
    "def CustomQuery(table, quantities, well):\n",
    "\n",
    "    return df_temp"
   ]
  },
  {
   "cell_type": "code",
   "execution_count": null,
   "metadata": {},
   "outputs": [],
   "source": [
    "CustomQuery('production', 'dates, bhp ', '15/9-F-1 C')"
   ]
  },
  {
   "cell_type": "code",
   "execution_count": 10,
   "metadata": {},
   "outputs": [
    {
     "name": "stderr",
     "output_type": "stream",
     "text": [
      "Enabling notebook extension jupyter-js-widgets/extension...\n",
      "      - Validating: ok\n"
     ]
    }
   ],
   "source": [
    "!jupyter nbextension enable --py widgetsnbextension"
   ]
  },
  {
   "cell_type": "code",
   "execution_count": null,
   "metadata": {},
   "outputs": [],
   "source": [
    "@interact\n",
    "def PlotWellData():\n",
    "    plt.plot()"
   ]
  }
 ],
 "metadata": {
  "kernelspec": {
   "display_name": "Python 3",
   "language": "python",
   "name": "python3"
  },
  "language_info": {
   "codemirror_mode": {
    "name": "ipython",
    "version": 3
   },
   "file_extension": ".py",
   "mimetype": "text/x-python",
   "name": "python",
   "nbconvert_exporter": "python",
   "pygments_lexer": "ipython3",
   "version": "3.7.1"
  }
 },
 "nbformat": 4,
 "nbformat_minor": 4
}