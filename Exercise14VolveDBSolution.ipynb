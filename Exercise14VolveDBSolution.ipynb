{
 "cells": [
  {
   "cell_type": "markdown",
   "metadata": {},
   "source": [
    "# Exercise 13 - Production data to SQL DB"
   ]
  },
  {
   "cell_type": "markdown",
   "metadata": {},
   "source": [
    "## Learning Objectives"
   ]
  },
  {
   "cell_type": "markdown",
   "metadata": {},
   "source": [
    "* Explore sqlalchemy and pandas libraries for DB interaction\n",
    "* Create DB\n",
    "* Create Empty tables\n",
    "* Populate well metadata \n",
    "* Populate Production table from Pandas"
   ]
  },
  {
   "cell_type": "markdown",
   "metadata": {},
   "source": [
    "## Import libraries"
   ]
  },
  {
   "cell_type": "code",
   "execution_count": 13,
   "metadata": {},
   "outputs": [],
   "source": [
    "import pandas as pd\n",
    "import sqlalchemy as db\n",
    "import os\n",
    "import credentials\n",
    "from sqlalchemy import Table, Column, String, Integer, Float\n",
    "from ipywidgets import *\n",
    "import matplotlib.pyplot as plt"
   ]
  },
  {
   "cell_type": "markdown",
   "metadata": {},
   "source": [
    "## Import and explore Volve Data"
   ]
  },
  {
   "cell_type": "markdown",
   "metadata": {},
   "source": [
    "Volve is a North Sea field operated by Equinor, already decommissioned. Equinor has made their data public available, raw data and interpretation. We have extracted the production data and some of the well metadata for the purpose of this exercise.\n",
    "\n",
    "Source Data: https://www.equinor.com/en/how-and-why/digitalisation-in-our-dna/volve-field-data-village-download.html"
   ]
  },
  {
   "cell_type": "markdown",
   "metadata": {},
   "source": [
    "### Import Production Data"
   ]
  },
  {
   "cell_type": "code",
   "execution_count": null,
   "metadata": {},
   "outputs": [],
   "source": [
    "# Let's load the data into the notebook\n",
    "file = \"Volve production data.xlsx\"\n",
    "if os.path.exists(file):\n",
    "    df_prod = pd.read_excel(file)\n",
    "else:\n",
    "    fileurl = \"https://github.com/orkahub/PEG_Python/raw/master/Data/Volve/Production_data/Volve%20production%20data.xlsx\"\n",
    "    df_prod = pd.read_excel(fileurl)"
   ]
  },
  {
   "cell_type": "code",
   "execution_count": 6,
   "metadata": {},
   "outputs": [
    {
     "output_type": "execute_result",
     "data": {
      "text/plain": [
       "     DATEPRD WELL_BORE_CODE  NPD_WELL_BORE_CODE NPD_WELL_BORE_NAME  \\\n",
       "0 2014-04-07  NO 15/9-F-1 C                7405         15/9-F-1 C   \n",
       "1 2014-04-08  NO 15/9-F-1 C                7405         15/9-F-1 C   \n",
       "2 2014-04-09  NO 15/9-F-1 C                7405         15/9-F-1 C   \n",
       "3 2014-04-10  NO 15/9-F-1 C                7405         15/9-F-1 C   \n",
       "4 2014-04-11  NO 15/9-F-1 C                7405         15/9-F-1 C   \n",
       "\n",
       "   NPD_FIELD_CODE NPD_FIELD_NAME  NPD_FACILITY_CODE NPD_FACILITY_NAME  \\\n",
       "0         3420717          VOLVE             369304    MÆRSK INSPIRER   \n",
       "1         3420717          VOLVE             369304    MÆRSK INSPIRER   \n",
       "2         3420717          VOLVE             369304    MÆRSK INSPIRER   \n",
       "3         3420717          VOLVE             369304    MÆRSK INSPIRER   \n",
       "4         3420717          VOLVE             369304    MÆRSK INSPIRER   \n",
       "\n",
       "   ON_STREAM_HRS  AVG_DOWNHOLE_PRESSURE    ...      AVG_CHOKE_UOM  AVG_WHP_P  \\\n",
       "0            0.0                0.00000    ...                  %    0.00000   \n",
       "1            0.0                    NaN    ...                  %    0.00000   \n",
       "2            0.0                    NaN    ...                  %    0.00000   \n",
       "3            0.0                    NaN    ...                  %    0.00000   \n",
       "4            0.0              310.37614    ...                  %   33.09788   \n",
       "\n",
       "   AVG_WHT_P  DP_CHOKE_SIZE BORE_OIL_VOL  BORE_GAS_VOL  BORE_WAT_VOL  \\\n",
       "0    0.00000        0.00000          0.0           0.0           0.0   \n",
       "1    0.00000        0.00000          0.0           0.0           0.0   \n",
       "2    0.00000        0.00000          0.0           0.0           0.0   \n",
       "3    0.00000        0.00000          0.0           0.0           0.0   \n",
       "4   10.47992       33.07195          0.0           0.0           0.0   \n",
       "\n",
       "   BORE_WI_VOL   FLOW_KIND  WELL_TYPE  \n",
       "0          NaN  production         WI  \n",
       "1          NaN  production         OP  \n",
       "2          NaN  production         OP  \n",
       "3          NaN  production         OP  \n",
       "4          NaN  production         OP  \n",
       "\n",
       "[5 rows x 24 columns]"
      ],
      "text/html": "<div>\n<style scoped>\n    .dataframe tbody tr th:only-of-type {\n        vertical-align: middle;\n    }\n\n    .dataframe tbody tr th {\n        vertical-align: top;\n    }\n\n    .dataframe thead th {\n        text-align: right;\n    }\n</style>\n<table border=\"1\" class=\"dataframe\">\n  <thead>\n    <tr style=\"text-align: right;\">\n      <th></th>\n      <th>DATEPRD</th>\n      <th>WELL_BORE_CODE</th>\n      <th>NPD_WELL_BORE_CODE</th>\n      <th>NPD_WELL_BORE_NAME</th>\n      <th>NPD_FIELD_CODE</th>\n      <th>NPD_FIELD_NAME</th>\n      <th>NPD_FACILITY_CODE</th>\n      <th>NPD_FACILITY_NAME</th>\n      <th>ON_STREAM_HRS</th>\n      <th>AVG_DOWNHOLE_PRESSURE</th>\n      <th>...</th>\n      <th>AVG_CHOKE_UOM</th>\n      <th>AVG_WHP_P</th>\n      <th>AVG_WHT_P</th>\n      <th>DP_CHOKE_SIZE</th>\n      <th>BORE_OIL_VOL</th>\n      <th>BORE_GAS_VOL</th>\n      <th>BORE_WAT_VOL</th>\n      <th>BORE_WI_VOL</th>\n      <th>FLOW_KIND</th>\n      <th>WELL_TYPE</th>\n    </tr>\n  </thead>\n  <tbody>\n    <tr>\n      <th>0</th>\n      <td>2014-04-07</td>\n      <td>NO 15/9-F-1 C</td>\n      <td>7405</td>\n      <td>15/9-F-1 C</td>\n      <td>3420717</td>\n      <td>VOLVE</td>\n      <td>369304</td>\n      <td>MÆRSK INSPIRER</td>\n      <td>0.0</td>\n      <td>0.00000</td>\n      <td>...</td>\n      <td>%</td>\n      <td>0.00000</td>\n      <td>0.00000</td>\n      <td>0.00000</td>\n      <td>0.0</td>\n      <td>0.0</td>\n      <td>0.0</td>\n      <td>NaN</td>\n      <td>production</td>\n      <td>WI</td>\n    </tr>\n    <tr>\n      <th>1</th>\n      <td>2014-04-08</td>\n      <td>NO 15/9-F-1 C</td>\n      <td>7405</td>\n      <td>15/9-F-1 C</td>\n      <td>3420717</td>\n      <td>VOLVE</td>\n      <td>369304</td>\n      <td>MÆRSK INSPIRER</td>\n      <td>0.0</td>\n      <td>NaN</td>\n      <td>...</td>\n      <td>%</td>\n      <td>0.00000</td>\n      <td>0.00000</td>\n      <td>0.00000</td>\n      <td>0.0</td>\n      <td>0.0</td>\n      <td>0.0</td>\n      <td>NaN</td>\n      <td>production</td>\n      <td>OP</td>\n    </tr>\n    <tr>\n      <th>2</th>\n      <td>2014-04-09</td>\n      <td>NO 15/9-F-1 C</td>\n      <td>7405</td>\n      <td>15/9-F-1 C</td>\n      <td>3420717</td>\n      <td>VOLVE</td>\n      <td>369304</td>\n      <td>MÆRSK INSPIRER</td>\n      <td>0.0</td>\n      <td>NaN</td>\n      <td>...</td>\n      <td>%</td>\n      <td>0.00000</td>\n      <td>0.00000</td>\n      <td>0.00000</td>\n      <td>0.0</td>\n      <td>0.0</td>\n      <td>0.0</td>\n      <td>NaN</td>\n      <td>production</td>\n      <td>OP</td>\n    </tr>\n    <tr>\n      <th>3</th>\n      <td>2014-04-10</td>\n      <td>NO 15/9-F-1 C</td>\n      <td>7405</td>\n      <td>15/9-F-1 C</td>\n      <td>3420717</td>\n      <td>VOLVE</td>\n      <td>369304</td>\n      <td>MÆRSK INSPIRER</td>\n      <td>0.0</td>\n      <td>NaN</td>\n      <td>...</td>\n      <td>%</td>\n      <td>0.00000</td>\n      <td>0.00000</td>\n      <td>0.00000</td>\n      <td>0.0</td>\n      <td>0.0</td>\n      <td>0.0</td>\n      <td>NaN</td>\n      <td>production</td>\n      <td>OP</td>\n    </tr>\n    <tr>\n      <th>4</th>\n      <td>2014-04-11</td>\n      <td>NO 15/9-F-1 C</td>\n      <td>7405</td>\n      <td>15/9-F-1 C</td>\n      <td>3420717</td>\n      <td>VOLVE</td>\n      <td>369304</td>\n      <td>MÆRSK INSPIRER</td>\n      <td>0.0</td>\n      <td>310.37614</td>\n      <td>...</td>\n      <td>%</td>\n      <td>33.09788</td>\n      <td>10.47992</td>\n      <td>33.07195</td>\n      <td>0.0</td>\n      <td>0.0</td>\n      <td>0.0</td>\n      <td>NaN</td>\n      <td>production</td>\n      <td>OP</td>\n    </tr>\n  </tbody>\n</table>\n<p>5 rows × 24 columns</p>\n</div>"
     },
     "metadata": {},
     "execution_count": 6
    }
   ],
   "source": [
    "df_prod.head(5)"
   ]
  },
  {
   "cell_type": "code",
   "execution_count": 8,
   "metadata": {},
   "outputs": [],
   "source": [
    "column_names = {\n",
    "    'NPD_WELL_BORE_NAME': 'well', \n",
    "    'DATEPRD': 'dates', \n",
    "    'BORE_OIL_VOL': 'oilvol', \n",
    "    'BORE_WAT_VOL': 'watervol', \n",
    "    'BORE_GAS_VOL': 'gasvol',\n",
    "    'BORE_WI_VOL': 'waterinj',\n",
    "    'AVG_DOWNHOLE_PRESSURE': 'bhp',\n",
    "    'AVG_WHP_P': 'thp',\n",
    "    'AVG_DOWNHOLE_TEMPERATURE': 'bht'\n",
    "}\n",
    "df_prod.rename(columns=column_names, inplace=True)"
   ]
  },
  {
   "cell_type": "code",
   "execution_count": 9,
   "metadata": {},
   "outputs": [
    {
     "output_type": "execute_result",
     "data": {
      "text/plain": [
       "       dates WELL_BORE_CODE  NPD_WELL_BORE_CODE        well  NPD_FIELD_CODE  \\\n",
       "0 2014-04-07  NO 15/9-F-1 C                7405  15/9-F-1 C         3420717   \n",
       "1 2014-04-08  NO 15/9-F-1 C                7405  15/9-F-1 C         3420717   \n",
       "2 2014-04-09  NO 15/9-F-1 C                7405  15/9-F-1 C         3420717   \n",
       "3 2014-04-10  NO 15/9-F-1 C                7405  15/9-F-1 C         3420717   \n",
       "4 2014-04-11  NO 15/9-F-1 C                7405  15/9-F-1 C         3420717   \n",
       "\n",
       "  NPD_FIELD_NAME  NPD_FACILITY_CODE NPD_FACILITY_NAME  ON_STREAM_HRS  \\\n",
       "0          VOLVE             369304    MÆRSK INSPIRER            0.0   \n",
       "1          VOLVE             369304    MÆRSK INSPIRER            0.0   \n",
       "2          VOLVE             369304    MÆRSK INSPIRER            0.0   \n",
       "3          VOLVE             369304    MÆRSK INSPIRER            0.0   \n",
       "4          VOLVE             369304    MÆRSK INSPIRER            0.0   \n",
       "\n",
       "         bhp    ...      AVG_CHOKE_UOM       thp  AVG_WHT_P  DP_CHOKE_SIZE  \\\n",
       "0    0.00000    ...                  %   0.00000    0.00000        0.00000   \n",
       "1        NaN    ...                  %   0.00000    0.00000        0.00000   \n",
       "2        NaN    ...                  %   0.00000    0.00000        0.00000   \n",
       "3        NaN    ...                  %   0.00000    0.00000        0.00000   \n",
       "4  310.37614    ...                  %  33.09788   10.47992       33.07195   \n",
       "\n",
       "  oilvol  gasvol  watervol  waterinj   FLOW_KIND  WELL_TYPE  \n",
       "0    0.0     0.0       0.0       NaN  production         WI  \n",
       "1    0.0     0.0       0.0       NaN  production         OP  \n",
       "2    0.0     0.0       0.0       NaN  production         OP  \n",
       "3    0.0     0.0       0.0       NaN  production         OP  \n",
       "4    0.0     0.0       0.0       NaN  production         OP  \n",
       "\n",
       "[5 rows x 24 columns]"
      ],
      "text/html": "<div>\n<style scoped>\n    .dataframe tbody tr th:only-of-type {\n        vertical-align: middle;\n    }\n\n    .dataframe tbody tr th {\n        vertical-align: top;\n    }\n\n    .dataframe thead th {\n        text-align: right;\n    }\n</style>\n<table border=\"1\" class=\"dataframe\">\n  <thead>\n    <tr style=\"text-align: right;\">\n      <th></th>\n      <th>dates</th>\n      <th>WELL_BORE_CODE</th>\n      <th>NPD_WELL_BORE_CODE</th>\n      <th>well</th>\n      <th>NPD_FIELD_CODE</th>\n      <th>NPD_FIELD_NAME</th>\n      <th>NPD_FACILITY_CODE</th>\n      <th>NPD_FACILITY_NAME</th>\n      <th>ON_STREAM_HRS</th>\n      <th>bhp</th>\n      <th>...</th>\n      <th>AVG_CHOKE_UOM</th>\n      <th>thp</th>\n      <th>AVG_WHT_P</th>\n      <th>DP_CHOKE_SIZE</th>\n      <th>oilvol</th>\n      <th>gasvol</th>\n      <th>watervol</th>\n      <th>waterinj</th>\n      <th>FLOW_KIND</th>\n      <th>WELL_TYPE</th>\n    </tr>\n  </thead>\n  <tbody>\n    <tr>\n      <th>0</th>\n      <td>2014-04-07</td>\n      <td>NO 15/9-F-1 C</td>\n      <td>7405</td>\n      <td>15/9-F-1 C</td>\n      <td>3420717</td>\n      <td>VOLVE</td>\n      <td>369304</td>\n      <td>MÆRSK INSPIRER</td>\n      <td>0.0</td>\n      <td>0.00000</td>\n      <td>...</td>\n      <td>%</td>\n      <td>0.00000</td>\n      <td>0.00000</td>\n      <td>0.00000</td>\n      <td>0.0</td>\n      <td>0.0</td>\n      <td>0.0</td>\n      <td>NaN</td>\n      <td>production</td>\n      <td>WI</td>\n    </tr>\n    <tr>\n      <th>1</th>\n      <td>2014-04-08</td>\n      <td>NO 15/9-F-1 C</td>\n      <td>7405</td>\n      <td>15/9-F-1 C</td>\n      <td>3420717</td>\n      <td>VOLVE</td>\n      <td>369304</td>\n      <td>MÆRSK INSPIRER</td>\n      <td>0.0</td>\n      <td>NaN</td>\n      <td>...</td>\n      <td>%</td>\n      <td>0.00000</td>\n      <td>0.00000</td>\n      <td>0.00000</td>\n      <td>0.0</td>\n      <td>0.0</td>\n      <td>0.0</td>\n      <td>NaN</td>\n      <td>production</td>\n      <td>OP</td>\n    </tr>\n    <tr>\n      <th>2</th>\n      <td>2014-04-09</td>\n      <td>NO 15/9-F-1 C</td>\n      <td>7405</td>\n      <td>15/9-F-1 C</td>\n      <td>3420717</td>\n      <td>VOLVE</td>\n      <td>369304</td>\n      <td>MÆRSK INSPIRER</td>\n      <td>0.0</td>\n      <td>NaN</td>\n      <td>...</td>\n      <td>%</td>\n      <td>0.00000</td>\n      <td>0.00000</td>\n      <td>0.00000</td>\n      <td>0.0</td>\n      <td>0.0</td>\n      <td>0.0</td>\n      <td>NaN</td>\n      <td>production</td>\n      <td>OP</td>\n    </tr>\n    <tr>\n      <th>3</th>\n      <td>2014-04-10</td>\n      <td>NO 15/9-F-1 C</td>\n      <td>7405</td>\n      <td>15/9-F-1 C</td>\n      <td>3420717</td>\n      <td>VOLVE</td>\n      <td>369304</td>\n      <td>MÆRSK INSPIRER</td>\n      <td>0.0</td>\n      <td>NaN</td>\n      <td>...</td>\n      <td>%</td>\n      <td>0.00000</td>\n      <td>0.00000</td>\n      <td>0.00000</td>\n      <td>0.0</td>\n      <td>0.0</td>\n      <td>0.0</td>\n      <td>NaN</td>\n      <td>production</td>\n      <td>OP</td>\n    </tr>\n    <tr>\n      <th>4</th>\n      <td>2014-04-11</td>\n      <td>NO 15/9-F-1 C</td>\n      <td>7405</td>\n      <td>15/9-F-1 C</td>\n      <td>3420717</td>\n      <td>VOLVE</td>\n      <td>369304</td>\n      <td>MÆRSK INSPIRER</td>\n      <td>0.0</td>\n      <td>310.37614</td>\n      <td>...</td>\n      <td>%</td>\n      <td>33.09788</td>\n      <td>10.47992</td>\n      <td>33.07195</td>\n      <td>0.0</td>\n      <td>0.0</td>\n      <td>0.0</td>\n      <td>NaN</td>\n      <td>production</td>\n      <td>OP</td>\n    </tr>\n  </tbody>\n</table>\n<p>5 rows × 24 columns</p>\n</div>"
     },
     "metadata": {},
     "execution_count": 9
    }
   ],
   "source": [
    "df_prod.head(5)"
   ]
  },
  {
   "cell_type": "markdown",
   "metadata": {},
   "source": [
    "## Setup the connection to the DB and Fill with Data"
   ]
  },
  {
   "cell_type": "code",
   "execution_count": null,
   "metadata": {},
   "outputs": [],
   "source": []
  },
  {
   "cell_type": "markdown",
   "metadata": {},
   "source": [
    "We will be working with an Azure cloud DataBase, this will be available for 5 days."
   ]
  },
  {
   "cell_type": "markdown",
   "metadata": {},
   "source": [
    "### Basic connection settings"
   ]
  },
  {
   "cell_type": "code",
   "execution_count": 15,
   "metadata": {},
   "outputs": [
    {
     "output_type": "execute_result",
     "data": {
      "text/plain": [
       "'postgresql://TrainingPythonAdmin@pythontraining:Python2021O&G@pythontraining.postgres.database.azure.com:5432/postgres'"
      ]
     },
     "metadata": {},
     "execution_count": 15
    }
   ],
   "source": [
    "## Create the connection to my DB\n",
    "server = credentials.server\n",
    "user = credentials.user\n",
    "password = credentials.password\n",
    "sql_flavour = 'postgresql://'\n",
    "#engine_string = sql_flavour + user + \":\" + password + \"@\" + server +  \":5432/\" + db_name\n",
    "engine_string = sql_flavour + user + \":\" + password + \"@\" + server +  \":5432/postgres\" \n",
    "engine_string"
   ]
  },
  {
   "cell_type": "code",
   "execution_count": 16,
   "metadata": {},
   "outputs": [
    {
     "output_type": "execute_result",
     "data": {
      "text/plain": [
       "'pythontraining.postgres.database.azure.com'"
      ]
     },
     "metadata": {},
     "execution_count": 16
    }
   ],
   "source": [
    "server"
   ]
  },
  {
   "cell_type": "markdown",
   "metadata": {},
   "source": [
    "### Creating the connection"
   ]
  },
  {
   "cell_type": "code",
   "execution_count": 19,
   "metadata": {},
   "outputs": [],
   "source": [
    "engine = db.create_engine(engine_string)"
   ]
  },
  {
   "cell_type": "code",
   "execution_count": 21,
   "metadata": {},
   "outputs": [],
   "source": [
    "connection = engine.connect()"
   ]
  },
  {
   "cell_type": "markdown",
   "metadata": {},
   "source": [
    "### Create your first Database"
   ]
  },
  {
   "cell_type": "code",
   "execution_count": 25,
   "metadata": {},
   "outputs": [
    {
     "output_type": "execute_result",
     "data": {
      "text/plain": [
       "<sqlalchemy.engine.result.ResultProxy at 0x22233017e80>"
      ]
     },
     "metadata": {},
     "execution_count": 25
    }
   ],
   "source": [
    "db_name = 'volve_instructor_ap2' #Change the following name to your own:\n",
    "connection.execute('commit')"
   ]
  },
  {
   "cell_type": "code",
   "execution_count": 26,
   "metadata": {},
   "outputs": [
    {
     "output_type": "execute_result",
     "data": {
      "text/plain": [
       "<sqlalchemy.engine.result.ResultProxy at 0x22232ec6898>"
      ]
     },
     "metadata": {},
     "execution_count": 26
    }
   ],
   "source": [
    "query = \"CREATE DATABASE \"+db_name\n",
    "connection.execute(query)"
   ]
  },
  {
   "cell_type": "code",
   "execution_count": null,
   "metadata": {},
   "outputs": [],
   "source": [
    "engine_string = sql_flavour + user + \":\" + password + \"@\" + server +  \":5432/\" +db_name\n",
    "engine = db.create_engine(engine_string)\n",
    "connection = engine.connect()\n",
    "connection.execute('commit')"
   ]
  },
  {
   "cell_type": "markdown",
   "metadata": {},
   "source": [
    "### Create and populate well metadata"
   ]
  },
  {
   "cell_type": "code",
   "execution_count": 27,
   "metadata": {},
   "outputs": [],
   "source": [
    "meta = db.MetaData()\n",
    "wellmeta = Table(\n",
    "    'wellmeta', meta,\n",
    "    Column('id', Integer, primary_key=True),\n",
    "    Column('well', String),\n",
    "    Column('latitude', Float),\n",
    "    Column('longitude', Float)\n",
    ")\n",
    "meta.create_all(engine)"
   ]
  },
  {
   "cell_type": "code",
   "execution_count": 29,
   "metadata": {},
   "outputs": [],
   "source": [
    "wellnames= ['15/9-F-1 C', '15/9-F-11', '15/9-F-12', '15/9-F-14', '15/9-F-15 D', '15/9-F-4', '15/9-F-5']\n",
    "# Top formation location\n",
    "lat = [58.450073611111115, 58.44036305555555, 58.43840611111111, 58.442518611111105, 58.443219166666665,\n",
    " 58.433746944444444, 58.440733611111106]\n",
    "long = [1.8963722222222221, 1.9132308333333332, 1.8924699999999999, 1.8920077777777777, 1.9148333333333332,\n",
    " 1.8980691666666667, 1.9121891666666666]"
   ]
  },
  {
   "cell_type": "code",
   "execution_count": null,
   "metadata": {},
   "outputs": [],
   "source": [
    "db_name"
   ]
  },
  {
   "cell_type": "code",
   "execution_count": 30,
   "metadata": {},
   "outputs": [],
   "source": [
    "for i, well in enumerate(wellnames):\n",
    "    insertquery = wellmeta.insert().values(id=i, well=well, latitude=lat[i], longitude=long[i])\n",
    "    connection.execute(insertquery)"
   ]
  },
  {
   "cell_type": "markdown",
   "metadata": {},
   "source": [
    "### Create and populate Production Data"
   ]
  },
  {
   "cell_type": "code",
   "execution_count": null,
   "metadata": {},
   "outputs": [],
   "source": []
  },
  {
   "cell_type": "markdown",
   "metadata": {},
   "source": [
    "## Import Data from DB into Jupyter"
   ]
  },
  {
   "cell_type": "code",
   "execution_count": 7,
   "metadata": {},
   "outputs": [],
   "source": []
  },
  {
   "cell_type": "code",
   "execution_count": 8,
   "metadata": {},
   "outputs": [],
   "source": [
    "def CustomQuery(table, quantities, well):\n",
    "\n",
    "    return df_temp"
   ]
  },
  {
   "cell_type": "code",
   "execution_count": null,
   "metadata": {},
   "outputs": [],
   "source": [
    "CustomQuery('production', 'dates, bhp ', '15/9-F-1 C')"
   ]
  },
  {
   "cell_type": "code",
   "execution_count": 10,
   "metadata": {},
   "outputs": [
    {
     "name": "stderr",
     "output_type": "stream",
     "text": [
      "Enabling notebook extension jupyter-js-widgets/extension...\n",
      "      - Validating: ok\n"
     ]
    }
   ],
   "source": [
    "!jupyter nbextension enable --py widgetsnbextension"
   ]
  },
  {
   "cell_type": "code",
   "execution_count": null,
   "metadata": {},
   "outputs": [],
   "source": [
    "@interact\n",
    "def PlotWellData():\n",
    "    plt.plot()"
   ]
  }
 ],
 "metadata": {
  "kernelspec": {
   "display_name": "Python 3",
   "language": "python",
   "name": "python3"
  },
  "language_info": {
   "codemirror_mode": {
    "name": "ipython",
    "version": 3
   },
   "file_extension": ".py",
   "mimetype": "text/x-python",
   "name": "python",
   "nbconvert_exporter": "python",
   "pygments_lexer": "ipython3",
   "version": "3.6.5-final"
  }
 },
 "nbformat": 4,
 "nbformat_minor": 4
}